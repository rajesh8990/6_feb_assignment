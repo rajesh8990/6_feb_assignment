{
 "cells": [
  {
   "cell_type": "code",
   "execution_count": 41,
   "id": "d6c473d7-6895-4a9a-90bc-5dc9fac281c3",
   "metadata": {},
   "outputs": [
    {
     "name": "stdout",
     "output_type": "stream",
     "text": [
      "r$dzmg$gl$yvxlnv$z$wzgz$hxrvmgrhg\n"
     ]
    }
   ],
   "source": [
    "\"\"\"\n",
    "Q.2 Write a python program for encrypting a message sent to you by your friend. \n",
    "    The logic of encryption should be such that, for a the output should be z. For b, \n",
    "    be x respectively. Also, the whitespace should be replaced with a dollar sign. Keep the\n",
    "    punctuation the output should be y. For c, the output should marks unchanged.\n",
    "\n",
    "Input Sentence: I want to become a Data Scientist.\n",
    "\n",
    "Encrypt the above input sentence using the program you just created.\n",
    "\n",
    "Note: Convert the given input sentence into lowercase before encrypting. The final output \n",
    "should be lowercase\n",
    "\"\"\"\n",
    "def encrpted_message(message):\n",
    "    encrypt=''\n",
    "    for i in message:\n",
    "        if i.isalpha():\n",
    "            if i.islower():\n",
    "                \n",
    "            \n",
    "                encrypt_char=chr(ord('z')-(ord(i)-ord('a')))\n",
    "                encrypt=encrypt+encrypt_char\n",
    "            elif i.isupper():\n",
    "                encrypt_char1=chr(ord('Z')-(ord(i)-ord('A')))\n",
    "                encrypt=encrypt+encrypt_char1\n",
    "        elif i.isspace():\n",
    "            encrypt+='$'\n",
    "        else:\n",
    "            encrypt+=i\n",
    "    return encrypt\n",
    "input=\"I want to become a Data Scientist\"\n",
    "orginal_message=encrpted_message(input)\n",
    "print(orginal_message.lower())\n",
    "      "
   ]
  }
 ],
 "metadata": {
  "kernelspec": {
   "display_name": "Python 3 (ipykernel)",
   "language": "python",
   "name": "python3"
  },
  "language_info": {
   "codemirror_mode": {
    "name": "ipython",
    "version": 3
   },
   "file_extension": ".py",
   "mimetype": "text/x-python",
   "name": "python",
   "nbconvert_exporter": "python",
   "pygments_lexer": "ipython3",
   "version": "3.10.8"
  }
 },
 "nbformat": 4,
 "nbformat_minor": 5
}
