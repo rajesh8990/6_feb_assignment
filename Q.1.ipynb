{
 "cells": [
  {
   "cell_type": "code",
   "execution_count": null,
   "id": "ca6c3841-fa9d-4a15-92f1-7cd53b5536b5",
   "metadata": {},
   "outputs": [],
   "source": [
    "\"\"\"\n",
    "Q.1 Create a function which will take a list as an argument and return the product of \n",
    "    all the numbers after creating a flat list.\n",
    "    Use the below-given list as an argument for your function.\n",
    "    list1 = [1,2,3,4, [44,55,66, True], False, (34,56,78,89,34), {1,2,3,3,2,1}, \n",
    "    {1:34, \"key2\": [55, 67, 78, 89], 4: (45,22, 61, 34)}, [56, 'data science'], \n",
    "    'Machine Learning']\n",
    "\n",
    "    Note: you must extract numeric keys and values of the dictionary also.\n",
    "    \n",
    "\"\"\""
   ]
  },
  {
   "cell_type": "code",
   "execution_count": 2,
   "id": "0a6db936-f7ad-4323-8521-edcc199591dd",
   "metadata": {},
   "outputs": [
    {
     "name": "stdout",
     "output_type": "stream",
     "text": [
      "Product of all numbers in the list: 0\n"
     ]
    }
   ],
   "source": [
    "def product_of_numbers(lst):\n",
    "    flattened_list = []\n",
    "    \n",
    "    def flatten_list(nested):\n",
    "        for item in nested:\n",
    "            if isinstance(item, (list, tuple, set)):\n",
    "                flatten_list(item)\n",
    "            elif isinstance(item, dict):\n",
    "                flatten_list(item.keys())\n",
    "                flatten_list(item.values())\n",
    "            elif isinstance(item, (int, float)):\n",
    "                flattened_list.append(item)\n",
    "    \n",
    "    flatten_list(lst)\n",
    "    \n",
    "    # Calculate product of all numeric values in the flattened list\n",
    "    product = 1\n",
    "    for num in flattened_list:\n",
    "        product *= num\n",
    "    \n",
    "    return product\n",
    "\n",
    "# Given list\n",
    "list1 = [1, 2, 3, 4, [44, 55, 66, True], False, (34, 56, 78, 89, 34), {1, 2, 3, 3, 2, 1}, \n",
    "         {1: 34, \"key2\": [55, 67, 78, 89], 4: (45, 22, 61, 34)}, [56, 'data science'], 'Machine Learning']\n",
    "\n",
    "# Calculate and print the product of numbers in the list\n",
    "result = product_of_numbers(list1)\n",
    "print(\"Product of all numbers in the list:\", result)\n"
   ]
  },
  {
   "cell_type": "code",
   "execution_count": null,
   "id": "2c09053a-9444-4039-8023-7e091fd2dcc0",
   "metadata": {},
   "outputs": [],
   "source": []
  }
 ],
 "metadata": {
  "kernelspec": {
   "display_name": "Python 3 (ipykernel)",
   "language": "python",
   "name": "python3"
  },
  "language_info": {
   "codemirror_mode": {
    "name": "ipython",
    "version": 3
   },
   "file_extension": ".py",
   "mimetype": "text/x-python",
   "name": "python",
   "nbconvert_exporter": "python",
   "pygments_lexer": "ipython3",
   "version": "3.10.8"
  }
 },
 "nbformat": 4,
 "nbformat_minor": 5
}
